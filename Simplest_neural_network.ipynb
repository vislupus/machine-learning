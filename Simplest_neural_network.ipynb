{
  "nbformat": 4,
  "nbformat_minor": 0,
  "metadata": {
    "colab": {
      "name": "Simplest neural network.ipynb",
      "provenance": [],
      "collapsed_sections": [],
      "authorship_tag": "ABX9TyOmq+3YcEqEIGDLEETiBaqH",
      "include_colab_link": true
    },
    "kernelspec": {
      "name": "python3",
      "display_name": "Python 3"
    }
  },
  "cells": [
    {
      "cell_type": "markdown",
      "metadata": {
        "id": "view-in-github",
        "colab_type": "text"
      },
      "source": [
        "<a href=\"https://colab.research.google.com/github/vislupus/machine-learning/blob/master/Simplest_neural_network.ipynb\" target=\"_parent\"><img src=\"https://colab.research.google.com/assets/colab-badge.svg\" alt=\"Open In Colab\"/></a>"
      ]
    },
    {
      "cell_type": "code",
      "metadata": {
        "id": "WGtITZj3xFnq",
        "colab_type": "code",
        "colab": {
          "base_uri": "https://localhost:8080/",
          "height": 34
        },
        "outputId": "94c199fa-8117-4dbc-a618-38ee6824fd79"
      },
      "source": [
        "import tensorflow as tf\n",
        "import pandas as pd\n",
        "import numpy as np\n",
        "import seaborn as sns\n",
        "import matplotlib.pyplot as plt\n",
        "%matplotlib inline\n",
        "\n",
        "print(f'Tensorflow version: {tf.__version__}')"
      ],
      "execution_count": null,
      "outputs": [
        {
          "output_type": "stream",
          "text": [
            "Tensorflow version: 2.2.0\n"
          ],
          "name": "stdout"
        }
      ]
    },
    {
      "cell_type": "code",
      "metadata": {
        "id": "gGG9E7iIxVcl",
        "colab_type": "code",
        "colab": {
          "base_uri": "https://localhost:8080/",
          "height": 282
        },
        "outputId": "83c6493a-ba44-45c6-8471-b1fbb8e0dd2f"
      },
      "source": [
        "# Parameters (y = a*x + b)\n",
        "a=0.6\n",
        "b=2\n",
        "\n",
        "# Create noisy data\n",
        "x_data = np.linspace(-10, 10, num=100000)\n",
        "y_data = a * x_data + b + np.random.normal(size=100000)\n",
        "\n",
        "plt.scatter(x_data[::500], y_data[::500])"
      ],
      "execution_count": null,
      "outputs": [
        {
          "output_type": "execute_result",
          "data": {
            "text/plain": [
              "<matplotlib.collections.PathCollection at 0x7fb203d92668>"
            ]
          },
          "metadata": {
            "tags": []
          },
          "execution_count": 5
        },
        {
          "output_type": "display_data",
          "data": {
            "image/png": "[encoded data removed]",
            "text/plain": [
              "<Figure size 432x288 with 1 Axes>"
            ]
          },
          "metadata": {
            "tags": [],
            "needs_background": "light"
          }
        }
      ]
    },
    {
      "cell_type": "code",
      "metadata": {
        "id": "kPkPQDutxVp8",
        "colab_type": "code",
        "colab": {
          "base_uri": "https://localhost:8080/",
          "height": 187
        },
        "outputId": "5e6b51ee-696f-45ac-8c7e-32d37fb78e82"
      },
      "source": [
        "# Create the model \n",
        "model = tf.keras.models.Sequential([\n",
        "  tf.keras.layers.Dense(units=1, input_shape=([1]), activation='linear'),\n",
        "])\n",
        "model.compile(optimizer=\"adam\", loss='mse', )\n",
        "model.summary()"
      ],
      "execution_count": null,
      "outputs": [
        {
          "output_type": "stream",
          "text": [
            "Model: \"sequential_1\"\n",
            "_________________________________________________________________\n",
            "Layer (type)                 Output Shape              Param #   \n",
            "=================================================================\n",
            "dense_1 (Dense)              (None, 1)                 2         \n",
            "=================================================================\n",
            "Total params: 2\n",
            "Trainable params: 2\n",
            "Non-trainable params: 0\n",
            "_________________________________________________________________\n"
          ],
          "name": "stdout"
        }
      ]
    },
    {
      "cell_type": "code",
      "metadata": {
        "id": "GlGjM3-6xVul",
        "colab_type": "code",
        "colab": {
          "base_uri": "https://localhost:8080/",
          "height": 204
        },
        "outputId": "af7e4fc3-e05a-4d21-d2ba-d5cd1f87c586"
      },
      "source": [
        "model.fit(x_data, y_data, epochs=5, verbose=1 )"
      ],
      "execution_count": null,
      "outputs": [
        {
          "output_type": "stream",
          "text": [
            "Epoch 1/5\n",
            "3125/3125 [==============================] - 3s 912us/step - loss: 5.7750\n",
            "Epoch 2/5\n",
            "3125/3125 [==============================] - 3s 878us/step - loss: 1.0032\n",
            "Epoch 3/5\n",
            "3125/3125 [==============================] - 3s 864us/step - loss: 1.0016\n",
            "Epoch 4/5\n",
            "3125/3125 [==============================] - 3s 849us/step - loss: 1.0016\n",
            "Epoch 5/5\n",
            "3125/3125 [==============================] - 3s 879us/step - loss: 1.0016\n"
          ],
          "name": "stdout"
        },
        {
          "output_type": "execute_result",
          "data": {
            "text/plain": [
              "<tensorflow.python.keras.callbacks.History at 0x7fb1fd4482b0>"
            ]
          },
          "metadata": {
            "tags": []
          },
          "execution_count": 8
        }
      ]
    },
    {
      "cell_type": "code",
      "metadata": {
        "id": "7Z_wO1zWxV5T",
        "colab_type": "code",
        "colab": {
          "base_uri": "https://localhost:8080/",
          "height": 265
        },
        "outputId": "ac02135f-045c-41fa-f7dd-d187599e21aa"
      },
      "source": [
        "# Predict (compute) the output \n",
        "y_predicted = model.predict(x_data)\n",
        "\n",
        "# Display the result\n",
        "plt.scatter(x_data[::500], y_data[::500])\n",
        "plt.plot(x_data, y_predicted, 'r', linewidth=4)\n",
        "plt.grid()\n",
        "plt.show()"
      ],
      "execution_count": null,
      "outputs": [
        {
          "output_type": "display_data",
          "data": {
            "image/png": "[encoded data removed]",
            "text/plain": [
              "<Figure size 432x288 with 1 Axes>"
            ]
          },
          "metadata": {
            "tags": [],
            "needs_background": "light"
          }
        }
      ]
    }
  ]
}